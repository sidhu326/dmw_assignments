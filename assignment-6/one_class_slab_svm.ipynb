{
 "cells": [
  {
   "cell_type": "code",
   "execution_count": 1,
   "metadata": {},
   "outputs": [],
   "source": [
    "import pandas as pd\n",
    "data = pd.read_csv(\"/home/akhilnaik/Downloads/letter-recognition.data\")"
   ]
  },
  {
   "cell_type": "code",
   "execution_count": 2,
   "metadata": {},
   "outputs": [
    {
     "data": {
      "text/plain": [
       "(20000, 17)"
      ]
     },
     "execution_count": 2,
     "metadata": {},
     "output_type": "execute_result"
    }
   ],
   "source": [
    "data.shape\n"
   ]
  },
  {
   "cell_type": "code",
   "execution_count": 3,
   "metadata": {},
   "outputs": [],
   "source": [
    "training_data = data.sample(frac=0.8)\n",
    "testing_data = data.drop(training_data.index)"
   ]
  },
  {
   "cell_type": "code",
   "execution_count": 4,
   "metadata": {},
   "outputs": [],
   "source": [
    "def labeling_data(label):\n",
    "  labels = np.array(training_data['Label'].unique())\n",
    "  df = []\n",
    "  for l in labels:\n",
    "    if(l==label):\n",
    "      df.append(training_data[training_data['Label']==l])\n",
    "    else:\n",
    "      df.append(training_data[training_data['Label']==l].sample(frac=0.04))\n",
    "  return pd.concat(df)\n",
    "\n",
    "def labeling_data2(label):\n",
    "  return training_data"
   ]
  },
  {
   "cell_type": "code",
   "execution_count": 5,
   "metadata": {},
   "outputs": [],
   "source": [
    "from sklearn.svm import OneClassSVM\n",
    "import numpy as np\n",
    "OCSVM_for_label = {}\n",
    "int_to_letter = {}\n",
    "for i,l in enumerate(np.array(training_data['Label'].unique())):\n",
    "  int_to_letter[i]=l\n",
    "  data_label = labeling_data(l)\n",
    "  data2_label = labeling_data2(l)\n",
    "  clf = OneClassSVM(gamma='auto').fit(data_label.drop('Label',axis=1))\n",
    "  clf2 = OneClassSVM(gamma='auto').fit(data2_label.drop('Label',axis=1))\n",
    "  OCSVM_for_label[l]=(clf,clf2)"
   ]
  },
  {
   "cell_type": "code",
   "execution_count": 6,
   "metadata": {},
   "outputs": [],
   "source": [
    "prediction = []\n",
    "for let in OCSVM_for_label:\n",
    "  prediction.append(-(OCSVM_for_label[let][0].decision_function(testing_data.drop('Label',axis=1)))*(OCSVM_for_label[let][1].decision_function(testing_data.drop('Label',axis=1))))"
   ]
  },
  {
   "cell_type": "code",
   "execution_count": 7,
   "metadata": {},
   "outputs": [],
   "source": [
    "prediction = np.array(prediction).T"
   ]
  },
  {
   "cell_type": "code",
   "execution_count": 8,
   "metadata": {},
   "outputs": [],
   "source": [
    "ans = []\n",
    "for i,pred in enumerate(prediction):\n",
    "  ans.append(int_to_letter[pred.argmax()])"
   ]
  },
  {
   "cell_type": "code",
   "execution_count": 10,
   "metadata": {},
   "outputs": [
    {
     "name": "stdout",
     "output_type": "stream",
     "text": [
      "              precision    recall  f1-score   support\n",
      "\n",
      "           A       0.89      0.63      0.74       158\n",
      "           B       0.16      0.21      0.18       155\n",
      "           C       0.59      0.60      0.59       144\n",
      "           D       0.27      0.32      0.29       158\n",
      "           E       0.32      0.28      0.30       165\n",
      "           F       0.73      0.45      0.55       155\n",
      "           G       0.41      0.21      0.28       159\n",
      "           H       0.65      0.29      0.40       140\n",
      "           I       0.26      0.46      0.33       136\n",
      "           J       0.85      0.74      0.80       149\n",
      "           K       0.78      0.54      0.64       145\n",
      "           L       0.91      0.75      0.82       167\n",
      "           M       0.73      0.79      0.76       141\n",
      "           N       0.80      0.58      0.67       155\n",
      "           O       0.04      0.12      0.06       150\n",
      "           P       0.68      0.63      0.65       175\n",
      "           Q       0.50      0.46      0.48       171\n",
      "           R       0.22      0.26      0.24       156\n",
      "           S       0.79      0.46      0.58       147\n",
      "           T       0.30      0.47      0.36       144\n",
      "           U       0.44      0.53      0.48       154\n",
      "           V       0.33      0.40      0.36       154\n",
      "           W       0.75      0.76      0.76       154\n",
      "           X       0.59      0.22      0.32       168\n",
      "           Y       0.82      0.66      0.73       167\n",
      "           Z       0.59      0.61      0.60       133\n",
      "\n",
      "    accuracy                           0.48      4000\n",
      "   macro avg       0.55      0.48      0.50      4000\n",
      "weighted avg       0.56      0.48      0.50      4000\n",
      "\n"
     ]
    }
   ],
   "source": [
    "from sklearn.metrics import classification_report\n",
    "print(classification_report(testing_data['Label'], ans))"
   ]
  },
  {
   "cell_type": "code",
   "execution_count": 11,
   "metadata": {},
   "outputs": [],
   "source": [
    "def labeling_data(label):\n",
    "  labels = np.array(training_data['Label'].unique())\n",
    "  df = []\n",
    "  for l in labels:\n",
    "    if(l==label):\n",
    "      df.append(training_data[training_data['Label']==l])\n",
    "    else:\n",
    "      df.append(training_data[training_data['Label']==l].sample(frac=0.04))\n",
    "  return pd.concat(df)\n",
    "\n",
    "def labeling_data2(label):\n",
    "  return training_data"
   ]
  },
  {
   "cell_type": "code",
   "execution_count": 12,
   "metadata": {},
   "outputs": [],
   "source": [
    "from sklearn.svm import OneClassSVM\n",
    "import numpy as np\n",
    "OCSVM_for_label = {}\n",
    "int_to_letter = {}\n",
    "for i,l in enumerate(np.array(training_data['Label'].unique())):\n",
    "  int_to_letter[i]=l\n",
    "  data_label = labeling_data(l)\n",
    "  data2_label = labeling_data2(l)\n",
    "  clf = OneClassSVM(gamma='auto').fit(data_label.drop('Label',axis=1))\n",
    "  clf2 = OneClassSVM(gamma='auto').fit(data2_label.drop('Label',axis=1))\n",
    "  OCSVM_for_label[l]=(clf,clf2)"
   ]
  },
  {
   "cell_type": "code",
   "execution_count": 13,
   "metadata": {},
   "outputs": [],
   "source": [
    "prediction = []\n",
    "for let in OCSVM_for_label:\n",
    "  prediction.append(-(OCSVM_for_label[let][0].decision_function(testing_data.drop('Label',axis=1)))*(OCSVM_for_label[let][1].decision_function(testing_data.drop('Label',axis=1))))"
   ]
  },
  {
   "cell_type": "code",
   "execution_count": 14,
   "metadata": {},
   "outputs": [],
   "source": [
    "prediction = np.array(prediction).T"
   ]
  },
  {
   "cell_type": "code",
   "execution_count": 15,
   "metadata": {},
   "outputs": [],
   "source": [
    "ans = []\n",
    "for i,pred in enumerate(prediction):\n",
    "  ans.append(int_to_letter[pred.argmax()])"
   ]
  },
  {
   "cell_type": "code",
   "execution_count": 16,
   "metadata": {},
   "outputs": [
    {
     "name": "stdout",
     "output_type": "stream",
     "text": [
      "              precision    recall  f1-score   support\n",
      "\n",
      "           A       0.85      0.63      0.72       158\n",
      "           B       0.12      0.23      0.16       155\n",
      "           C       0.52      0.60      0.56       144\n",
      "           D       0.15      0.30      0.20       158\n",
      "           E       0.71      0.28      0.41       165\n",
      "           F       0.67      0.43      0.53       155\n",
      "           G       0.22      0.21      0.21       159\n",
      "           H       0.75      0.29      0.42       140\n",
      "           I       0.27      0.39      0.32       136\n",
      "           J       0.75      0.74      0.74       149\n",
      "           K       0.81      0.57      0.67       145\n",
      "           L       0.84      0.76      0.80       167\n",
      "           M       0.59      0.81      0.68       141\n",
      "           N       0.73      0.58      0.65       155\n",
      "           O       0.06      0.11      0.08       150\n",
      "           P       0.81      0.64      0.71       175\n",
      "           Q       0.91      0.45      0.60       171\n",
      "           R       0.19      0.24      0.22       156\n",
      "           S       0.86      0.46      0.60       147\n",
      "           T       0.31      0.46      0.37       144\n",
      "           U       0.72      0.56      0.63       154\n",
      "           V       0.49      0.40      0.44       154\n",
      "           W       0.65      0.77      0.71       154\n",
      "           X       0.26      0.23      0.24       168\n",
      "           Y       0.90      0.65      0.75       167\n",
      "           Z       0.71      0.62      0.66       133\n",
      "\n",
      "    accuracy                           0.48      4000\n",
      "   macro avg       0.57      0.48      0.50      4000\n",
      "weighted avg       0.57      0.48      0.50      4000\n",
      "\n"
     ]
    }
   ],
   "source": [
    "from sklearn.metrics import classification_report\n",
    "print(classification_report(testing_data['Label'], ans))"
   ]
  },
  {
   "cell_type": "code",
   "execution_count": null,
   "metadata": {},
   "outputs": [],
   "source": []
  }
 ],
 "metadata": {
  "kernelspec": {
   "display_name": "Python 3",
   "language": "python",
   "name": "python3"
  },
  "language_info": {
   "codemirror_mode": {
    "name": "ipython",
    "version": 3
   },
   "file_extension": ".py",
   "mimetype": "text/x-python",
   "name": "python",
   "nbconvert_exporter": "python",
   "pygments_lexer": "ipython3",
   "version": "3.8.3"
  }
 },
 "nbformat": 4,
 "nbformat_minor": 4
}
